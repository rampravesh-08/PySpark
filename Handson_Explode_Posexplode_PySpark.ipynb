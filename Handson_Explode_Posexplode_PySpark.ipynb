{
 "cells": [
  {
   "cell_type": "code",
   "execution_count": 9,
   "metadata": {},
   "outputs": [],
   "source": [
    "import findspark\n",
    "findspark.init('C:\\\\spark\\\\spark-3.0.0-hadoop2.7')\n",
    "import pyspark\n",
    "import pandas as pd"
   ]
  },
  {
   "cell_type": "code",
   "execution_count": 2,
   "metadata": {},
   "outputs": [],
   "source": [
    "from pyspark.sql import SparkSession"
   ]
  },
  {
   "cell_type": "code",
   "execution_count": 3,
   "metadata": {},
   "outputs": [],
   "source": [
    "spark = SparkSession.builder.appName('Basic').getOrCreate()"
   ]
  },
  {
   "cell_type": "code",
   "execution_count": 7,
   "metadata": {},
   "outputs": [],
   "source": [
    "trip = spark.createDataFrame(\n",
    "[('PMI','OPO',[2,1]),\n",
    "('ATH','BCN',[3]),\n",
    "('JKF','LAX',[5,4,6]),\n",
    "('HND','OPO',[8,9,7,0])],['origin','destination','internal_flight']\n",
    ")"
   ]
  },
  {
   "cell_type": "code",
   "execution_count": 8,
   "metadata": {},
   "outputs": [
    {
     "name": "stdout",
     "output_type": "stream",
     "text": [
      "+------+-----------+---------------+\n",
      "|origin|destination|internal_flight|\n",
      "+------+-----------+---------------+\n",
      "|   PMI|        OPO|         [2, 1]|\n",
      "|   ATH|        BCN|            [3]|\n",
      "|   JKF|        LAX|      [5, 4, 6]|\n",
      "|   HND|        OPO|   [8, 9, 7, 0]|\n",
      "+------+-----------+---------------+\n",
      "\n"
     ]
    }
   ],
   "source": [
    "trip.show()"
   ]
  },
  {
   "cell_type": "code",
   "execution_count": 30,
   "metadata": {},
   "outputs": [],
   "source": [
    "flights_df = pd.DataFrame({'internal_flight':[0,1,2,3,4,5,6,7,8,9],\n",
    "                      'public_flight_no': ['FR5760','FR5761','FR5762','FR5763','FR5764','FR5765','FR5766','FR5767','FR5768','FR5769']})\n"
   ]
  },
  {
   "cell_type": "code",
   "execution_count": 31,
   "metadata": {},
   "outputs": [
    {
     "data": {
      "text/plain": [
       "pandas.core.frame.DataFrame"
      ]
     },
     "execution_count": 31,
     "metadata": {},
     "output_type": "execute_result"
    }
   ],
   "source": [
    "type(flights_df)"
   ]
  },
  {
   "cell_type": "code",
   "execution_count": 11,
   "metadata": {},
   "outputs": [],
   "source": [
    "# Create Spark Dataframe from Pandas Dataframe\n",
    "flights = spark.createDataFrame(flights_df)"
   ]
  },
  {
   "cell_type": "code",
   "execution_count": 32,
   "metadata": {},
   "outputs": [
    {
     "data": {
      "text/plain": [
       "pyspark.sql.dataframe.DataFrame"
      ]
     },
     "execution_count": 32,
     "metadata": {},
     "output_type": "execute_result"
    }
   ],
   "source": [
    "type(flights)"
   ]
  },
  {
   "cell_type": "code",
   "execution_count": 13,
   "metadata": {},
   "outputs": [
    {
     "name": "stdout",
     "output_type": "stream",
     "text": [
      "+---------------+----------------+\n",
      "|internal_flight|public_flight_no|\n",
      "+---------------+----------------+\n",
      "|              0|          FR5760|\n",
      "|              1|          FR5761|\n",
      "|              2|          FR5762|\n",
      "|              3|          FR5763|\n",
      "|              4|          FR5764|\n",
      "|              5|          FR5765|\n",
      "|              6|          FR5766|\n",
      "|              7|          FR5767|\n",
      "|              8|          FR5768|\n",
      "|              9|          FR5769|\n",
      "+---------------+----------------+\n",
      "\n"
     ]
    }
   ],
   "source": [
    "flights.show()"
   ]
  },
  {
   "cell_type": "code",
   "execution_count": 14,
   "metadata": {},
   "outputs": [
    {
     "data": {
      "text/plain": [
       "DataFrame[summary: string, origin: string, destination: string]"
      ]
     },
     "execution_count": 14,
     "metadata": {},
     "output_type": "execute_result"
    }
   ],
   "source": [
    "trip.describe()"
   ]
  },
  {
   "cell_type": "code",
   "execution_count": 19,
   "metadata": {},
   "outputs": [
    {
     "name": "stdout",
     "output_type": "stream",
     "text": [
      "+------+\n",
      "|origin|\n",
      "+------+\n",
      "|   PMI|\n",
      "|   ATH|\n",
      "|   JKF|\n",
      "|   HND|\n",
      "+------+\n",
      "\n"
     ]
    }
   ],
   "source": [
    "trip.select('origin').show()"
   ]
  },
  {
   "cell_type": "code",
   "execution_count": 20,
   "metadata": {},
   "outputs": [
    {
     "data": {
      "text/plain": [
       "DataFrame[internal_flight: array<bigint>]"
      ]
     },
     "execution_count": 20,
     "metadata": {},
     "output_type": "execute_result"
    }
   ],
   "source": [
    "trip.select('internal_flight')"
   ]
  },
  {
   "cell_type": "code",
   "execution_count": 22,
   "metadata": {},
   "outputs": [
    {
     "data": {
      "text/plain": [
       "DataFrame[summary: string]"
      ]
     },
     "execution_count": 22,
     "metadata": {},
     "output_type": "execute_result"
    }
   ],
   "source": [
    "trip.select('internal_flight').describe()"
   ]
  },
  {
   "cell_type": "code",
   "execution_count": 23,
   "metadata": {},
   "outputs": [
    {
     "data": {
      "text/plain": [
       "Column<b'internal_flight'>"
      ]
     },
     "execution_count": 23,
     "metadata": {},
     "output_type": "execute_result"
    }
   ],
   "source": [
    "trip['internal_flight']"
   ]
  },
  {
   "cell_type": "code",
   "execution_count": 27,
   "metadata": {},
   "outputs": [
    {
     "name": "stdout",
     "output_type": "stream",
     "text": [
      "+---------------+\n",
      "|internal_flight|\n",
      "+---------------+\n",
      "|         [2, 1]|\n",
      "|            [3]|\n",
      "|      [5, 4, 6]|\n",
      "|   [8, 9, 7, 0]|\n",
      "+---------------+\n",
      "\n"
     ]
    }
   ],
   "source": [
    "trip.select('internal_flight').show()"
   ]
  },
  {
   "cell_type": "code",
   "execution_count": 35,
   "metadata": {},
   "outputs": [
    {
     "name": "stdout",
     "output_type": "stream",
     "text": [
      "root\n",
      " |-- origin: string (nullable = true)\n",
      " |-- destination: string (nullable = true)\n",
      " |-- internal_flight: array (nullable = true)\n",
      " |    |-- element: long (containsNull = true)\n",
      "\n"
     ]
    }
   ],
   "source": [
    "trip.printSchema()"
   ]
  },
  {
   "cell_type": "code",
   "execution_count": 48,
   "metadata": {},
   "outputs": [],
   "source": [
    "from pyspark.sql.types import ArrayType,StringType,IntegerType\n",
    "from pyspark.sql.functions import udf"
   ]
  },
  {
   "cell_type": "code",
   "execution_count": 193,
   "metadata": {},
   "outputs": [
    {
     "data": {
      "text/plain": [
       "[Row(public_flight_no='FR5761'), Row(public_flight_no='FR5765')]"
      ]
     },
     "execution_count": 193,
     "metadata": {},
     "output_type": "execute_result"
    }
   ],
   "source": [
    "l = [1,5]\n",
    "flights.filter(flights.internal_flight.isin(l)).select('public_flight_no').collect()"
   ]
  },
  {
   "cell_type": "code",
   "execution_count": 211,
   "metadata": {},
   "outputs": [],
   "source": [
    "def map_public_flight_name(internal_flight):\n",
    "    l = list()\n",
    "    for fly in internal_flight:\n",
    "        l.append(fly)\n",
    "        \n",
    "    return l"
   ]
  },
  {
   "cell_type": "code",
   "execution_count": 212,
   "metadata": {},
   "outputs": [],
   "source": [
    "# public_flight_name_udf = udf(map_public_flight_name, ArrayType(IntegerType()))\n",
    "public_flight_udf = udf(lambda l: map_public_flight_name(l))"
   ]
  },
  {
   "cell_type": "code",
   "execution_count": 215,
   "metadata": {},
   "outputs": [],
   "source": [
    "# public_flight_name_udf = udf(map_public_flight_name, ArrayType(IntegerType()))\n",
    "public_flight_udf = udf(lambda l: [flight for flight in l])"
   ]
  },
  {
   "cell_type": "code",
   "execution_count": 216,
   "metadata": {},
   "outputs": [
    {
     "name": "stdout",
     "output_type": "stream",
     "text": [
      "+------+-----------+---------------+-------------+\n",
      "|origin|destination|internal_flight|public_flight|\n",
      "+------+-----------+---------------+-------------+\n",
      "|   PMI|        OPO|         [2, 1]|       [2, 1]|\n",
      "|   ATH|        BCN|            [3]|          [3]|\n",
      "|   JKF|        LAX|      [5, 4, 6]|    [5, 4, 6]|\n",
      "|   HND|        OPO|   [8, 9, 7, 0]| [8, 9, 7, 0]|\n",
      "+------+-----------+---------------+-------------+\n",
      "\n"
     ]
    }
   ],
   "source": [
    "trip.withColumn('public_flight', public_flight_udf(trip['internal_flight'])).show()"
   ]
  },
  {
   "cell_type": "code",
   "execution_count": 218,
   "metadata": {},
   "outputs": [],
   "source": [
    "from pyspark.sql.functions import col,explode,posexplode,collect_list,monotonically_increasing_id\n",
    "from pyspark.sql.window import Window"
   ]
  },
  {
   "cell_type": "code",
   "execution_count": 221,
   "metadata": {},
   "outputs": [],
   "source": [
    "trip = trip.withColumn('row_id',monotonically_increasing_id())"
   ]
  },
  {
   "cell_type": "code",
   "execution_count": 222,
   "metadata": {},
   "outputs": [
    {
     "name": "stdout",
     "output_type": "stream",
     "text": [
      "+------+-----------+---------------+-----------+\n",
      "|origin|destination|internal_flight|     row_id|\n",
      "+------+-----------+---------------+-----------+\n",
      "|   PMI|        OPO|         [2, 1]| 8589934592|\n",
      "|   ATH|        BCN|            [3]|25769803776|\n",
      "|   JKF|        LAX|      [5, 4, 6]|42949672960|\n",
      "|   HND|        OPO|   [8, 9, 7, 0]|60129542144|\n",
      "+------+-----------+---------------+-----------+\n",
      "\n"
     ]
    }
   ],
   "source": [
    "trip.show()"
   ]
  },
  {
   "cell_type": "code",
   "execution_count": 224,
   "metadata": {},
   "outputs": [],
   "source": [
    "exploded = trip.select(('row_id'),explode(col('internal_flight')).alias('internal_flight'))"
   ]
  },
  {
   "cell_type": "code",
   "execution_count": 225,
   "metadata": {},
   "outputs": [
    {
     "name": "stdout",
     "output_type": "stream",
     "text": [
      "+-----------+---------------+\n",
      "|     row_id|internal_flight|\n",
      "+-----------+---------------+\n",
      "| 8589934592|              2|\n",
      "| 8589934592|              1|\n",
      "|25769803776|              3|\n",
      "|42949672960|              5|\n",
      "|42949672960|              4|\n",
      "|42949672960|              6|\n",
      "|60129542144|              8|\n",
      "|60129542144|              9|\n",
      "|60129542144|              7|\n",
      "|60129542144|              0|\n",
      "+-----------+---------------+\n",
      "\n"
     ]
    }
   ],
   "source": [
    "exploded.show()"
   ]
  },
  {
   "cell_type": "code",
   "execution_count": 228,
   "metadata": {},
   "outputs": [],
   "source": [
    "exploded_with_flight_number = exploded.join(flights, on=['internal_flight'], how='inner')"
   ]
  },
  {
   "cell_type": "code",
   "execution_count": 229,
   "metadata": {},
   "outputs": [
    {
     "name": "stdout",
     "output_type": "stream",
     "text": [
      "+---------------+-----------+----------------+\n",
      "|internal_flight|     row_id|public_flight_no|\n",
      "+---------------+-----------+----------------+\n",
      "|              0|60129542144|          FR5760|\n",
      "|              7|60129542144|          FR5767|\n",
      "|              6|42949672960|          FR5766|\n",
      "|              9|60129542144|          FR5769|\n",
      "|              5|42949672960|          FR5765|\n",
      "|              1| 8589934592|          FR5761|\n",
      "|              3|25769803776|          FR5763|\n",
      "|              8|60129542144|          FR5768|\n",
      "|              2| 8589934592|          FR5762|\n",
      "|              4|42949672960|          FR5764|\n",
      "+---------------+-----------+----------------+\n",
      "\n"
     ]
    }
   ],
   "source": [
    "exploded_with_flight_number.show()"
   ]
  },
  {
   "cell_type": "code",
   "execution_count": 230,
   "metadata": {},
   "outputs": [],
   "source": [
    "collected = exploded_with_flight_number.groupBy('row_id').agg(collect_list('public_flight_no').alias('public_flight_number'))"
   ]
  },
  {
   "cell_type": "code",
   "execution_count": 231,
   "metadata": {},
   "outputs": [
    {
     "name": "stdout",
     "output_type": "stream",
     "text": [
      "+-----------+--------------------+\n",
      "|     row_id|public_flight_number|\n",
      "+-----------+--------------------+\n",
      "| 8589934592|    [FR5761, FR5762]|\n",
      "|60129542144|[FR5760, FR5767, ...|\n",
      "|42949672960|[FR5766, FR5765, ...|\n",
      "|25769803776|            [FR5763]|\n",
      "+-----------+--------------------+\n",
      "\n"
     ]
    }
   ],
   "source": [
    "collected.show()"
   ]
  },
  {
   "cell_type": "code",
   "execution_count": 232,
   "metadata": {},
   "outputs": [],
   "source": [
    "trip = trip.join(collected, on=['row_id'], how='inner')"
   ]
  },
  {
   "cell_type": "code",
   "execution_count": 233,
   "metadata": {},
   "outputs": [
    {
     "name": "stdout",
     "output_type": "stream",
     "text": [
      "+-----------+------+-----------+---------------+--------------------+\n",
      "|     row_id|origin|destination|internal_flight|public_flight_number|\n",
      "+-----------+------+-----------+---------------+--------------------+\n",
      "| 8589934592|   PMI|        OPO|         [2, 1]|    [FR5761, FR5762]|\n",
      "|60129542144|   HND|        OPO|   [8, 9, 7, 0]|[FR5760, FR5767, ...|\n",
      "|42949672960|   JKF|        LAX|      [5, 4, 6]|[FR5766, FR5765, ...|\n",
      "|25769803776|   ATH|        BCN|            [3]|            [FR5763]|\n",
      "+-----------+------+-----------+---------------+--------------------+\n",
      "\n"
     ]
    }
   ],
   "source": [
    "trip.show()"
   ]
  },
  {
   "cell_type": "code",
   "execution_count": 240,
   "metadata": {},
   "outputs": [],
   "source": [
    "trip= trip.drop('internal_flight','row_id')"
   ]
  },
  {
   "cell_type": "code",
   "execution_count": 241,
   "metadata": {},
   "outputs": [
    {
     "name": "stdout",
     "output_type": "stream",
     "text": [
      "+------+-----------+--------------------+\n",
      "|origin|destination|public_flight_number|\n",
      "+------+-----------+--------------------+\n",
      "|   PMI|        OPO|    [FR5761, FR5762]|\n",
      "|   HND|        OPO|[FR5760, FR5767, ...|\n",
      "|   JKF|        LAX|[FR5766, FR5765, ...|\n",
      "|   ATH|        BCN|            [FR5763]|\n",
      "+------+-----------+--------------------+\n",
      "\n"
     ]
    }
   ],
   "source": [
    "trip.show()"
   ]
  },
  {
   "cell_type": "code",
   "execution_count": 242,
   "metadata": {},
   "outputs": [
    {
     "name": "stdout",
     "output_type": "stream",
     "text": [
      "+---------------+----------------+\n",
      "|internal_flight|public_flight_no|\n",
      "+---------------+----------------+\n",
      "|              0|          FR5760|\n",
      "|              1|          FR5761|\n",
      "|              2|          FR5762|\n",
      "|              3|          FR5763|\n",
      "|              4|          FR5764|\n",
      "|              5|          FR5765|\n",
      "|              6|          FR5766|\n",
      "|              7|          FR5767|\n",
      "|              8|          FR5768|\n",
      "|              9|          FR5769|\n",
      "+---------------+----------------+\n",
      "\n"
     ]
    }
   ],
   "source": [
    "flights.show()"
   ]
  },
  {
   "cell_type": "code",
   "execution_count": null,
   "metadata": {},
   "outputs": [],
   "source": [
    "# If you notice in trip order of flight in list has been changed, whereas order of item in list matter for this business scenario."
   ]
  },
  {
   "cell_type": "code",
   "execution_count": 243,
   "metadata": {},
   "outputs": [],
   "source": [
    "# Following is right solution.\n",
    "\n",
    "trip_c = spark.createDataFrame(\n",
    "[('PMI','OPO',[2,1]),\n",
    "('ATH','BCN',[3]),\n",
    "('JKF','LAX',[5,4,6]),\n",
    "('HND','OPO',[8,9,7,0])],['origin','destination','internal_flight']\n",
    ")"
   ]
  },
  {
   "cell_type": "code",
   "execution_count": 245,
   "metadata": {},
   "outputs": [
    {
     "name": "stdout",
     "output_type": "stream",
     "text": [
      "+------+-----------+---------------+-----------+\n",
      "|origin|destination|internal_flight|     row_id|\n",
      "+------+-----------+---------------+-----------+\n",
      "|   PMI|        OPO|         [2, 1]| 8589934592|\n",
      "|   ATH|        BCN|            [3]|25769803776|\n",
      "|   JKF|        LAX|      [5, 4, 6]|42949672960|\n",
      "|   HND|        OPO|   [8, 9, 7, 0]|60129542144|\n",
      "+------+-----------+---------------+-----------+\n",
      "\n"
     ]
    }
   ],
   "source": [
    "trip_c = trip_c.withColumn(('row_id'), monotonically_increasing_id())\n",
    "trip_c.show()"
   ]
  },
  {
   "cell_type": "code",
   "execution_count": 261,
   "metadata": {},
   "outputs": [],
   "source": [
    "exploded = trip_c.select(col('row_id'),posexplode(col('internal_flight')))"
   ]
  },
  {
   "cell_type": "code",
   "execution_count": 262,
   "metadata": {},
   "outputs": [
    {
     "name": "stdout",
     "output_type": "stream",
     "text": [
      "+-----------+---+---+\n",
      "|     row_id|pos|col|\n",
      "+-----------+---+---+\n",
      "| 8589934592|  0|  2|\n",
      "| 8589934592|  1|  1|\n",
      "|25769803776|  0|  3|\n",
      "|42949672960|  0|  5|\n",
      "|42949672960|  1|  4|\n",
      "|42949672960|  2|  6|\n",
      "|60129542144|  0|  8|\n",
      "|60129542144|  1|  9|\n",
      "|60129542144|  2|  7|\n",
      "|60129542144|  3|  0|\n",
      "+-----------+---+---+\n",
      "\n"
     ]
    }
   ],
   "source": [
    "exploded.show()"
   ]
  },
  {
   "cell_type": "code",
   "execution_count": 263,
   "metadata": {},
   "outputs": [],
   "source": [
    "exploded = exploded.withColumnRenamed('col','internal_flight').withColumnRenamed('pos','position')"
   ]
  },
  {
   "cell_type": "code",
   "execution_count": 264,
   "metadata": {},
   "outputs": [
    {
     "name": "stdout",
     "output_type": "stream",
     "text": [
      "+-----------+--------+---------------+\n",
      "|     row_id|position|internal_flight|\n",
      "+-----------+--------+---------------+\n",
      "| 8589934592|       0|              2|\n",
      "| 8589934592|       1|              1|\n",
      "|25769803776|       0|              3|\n",
      "|42949672960|       0|              5|\n",
      "|42949672960|       1|              4|\n",
      "|42949672960|       2|              6|\n",
      "|60129542144|       0|              8|\n",
      "|60129542144|       1|              9|\n",
      "|60129542144|       2|              7|\n",
      "|60129542144|       3|              0|\n",
      "+-----------+--------+---------------+\n",
      "\n"
     ]
    }
   ],
   "source": [
    "exploded.show()"
   ]
  },
  {
   "cell_type": "code",
   "execution_count": 265,
   "metadata": {
    "scrolled": false
   },
   "outputs": [],
   "source": [
    "exploded_with_flight_number = exploded.join(flights,on=['internal_flight'], how='inner')"
   ]
  },
  {
   "cell_type": "code",
   "execution_count": 266,
   "metadata": {},
   "outputs": [
    {
     "name": "stdout",
     "output_type": "stream",
     "text": [
      "+---------------+-----------+--------+----------------+\n",
      "|internal_flight|     row_id|position|public_flight_no|\n",
      "+---------------+-----------+--------+----------------+\n",
      "|              0|60129542144|       3|          FR5760|\n",
      "|              7|60129542144|       2|          FR5767|\n",
      "|              6|42949672960|       2|          FR5766|\n",
      "|              9|60129542144|       1|          FR5769|\n",
      "|              5|42949672960|       0|          FR5765|\n",
      "|              1| 8589934592|       1|          FR5761|\n",
      "|              3|25769803776|       0|          FR5763|\n",
      "|              8|60129542144|       0|          FR5768|\n",
      "|              2| 8589934592|       0|          FR5762|\n",
      "|              4|42949672960|       1|          FR5764|\n",
      "+---------------+-----------+--------+----------------+\n",
      "\n"
     ]
    }
   ],
   "source": [
    "exploded_with_flight_number.show()"
   ]
  },
  {
   "cell_type": "code",
   "execution_count": 272,
   "metadata": {},
   "outputs": [],
   "source": [
    "collected = exploded_with_flight_number.withColumn('public_flight_no',\n",
    "                                                   collect_list('public_flight_no').over(\n",
    "                                                       Window.partitionBy('row_id')\n",
    "                                                       .orderBy('position')\n",
    "                                                       .rowsBetween(\n",
    "                                                           Window.unboundedPreceding,\n",
    "                                                           Window.unboundedFollowing\n",
    "                                                       )\n",
    "                                                    )\n",
    "                                                  ).select(['row_id','public_flight_no'])"
   ]
  },
  {
   "cell_type": "code",
   "execution_count": 273,
   "metadata": {},
   "outputs": [
    {
     "name": "stdout",
     "output_type": "stream",
     "text": [
      "+-----------+--------------------+\n",
      "|     row_id|    public_flight_no|\n",
      "+-----------+--------------------+\n",
      "| 8589934592|    [FR5762, FR5761]|\n",
      "| 8589934592|    [FR5762, FR5761]|\n",
      "|60129542144|[FR5768, FR5769, ...|\n",
      "|60129542144|[FR5768, FR5769, ...|\n",
      "|60129542144|[FR5768, FR5769, ...|\n",
      "|60129542144|[FR5768, FR5769, ...|\n",
      "|42949672960|[FR5765, FR5764, ...|\n",
      "|42949672960|[FR5765, FR5764, ...|\n",
      "|42949672960|[FR5765, FR5764, ...|\n",
      "|25769803776|            [FR5763]|\n",
      "+-----------+--------------------+\n",
      "\n"
     ]
    }
   ],
   "source": [
    "collected.show()"
   ]
  },
  {
   "cell_type": "code",
   "execution_count": 274,
   "metadata": {},
   "outputs": [],
   "source": [
    "collected = collected.dropDuplicates()"
   ]
  },
  {
   "cell_type": "code",
   "execution_count": 275,
   "metadata": {},
   "outputs": [
    {
     "name": "stdout",
     "output_type": "stream",
     "text": [
      "+-----------+--------------------+\n",
      "|     row_id|    public_flight_no|\n",
      "+-----------+--------------------+\n",
      "| 8589934592|    [FR5762, FR5761]|\n",
      "|60129542144|[FR5768, FR5769, ...|\n",
      "|42949672960|[FR5765, FR5764, ...|\n",
      "|25769803776|            [FR5763]|\n",
      "+-----------+--------------------+\n",
      "\n"
     ]
    }
   ],
   "source": [
    "collected.show()"
   ]
  },
  {
   "cell_type": "code",
   "execution_count": 277,
   "metadata": {},
   "outputs": [],
   "source": [
    "trips_with_flight_name = collected.join(trip_c, on=['row_id'],how='inner')"
   ]
  },
  {
   "cell_type": "code",
   "execution_count": 278,
   "metadata": {},
   "outputs": [
    {
     "name": "stdout",
     "output_type": "stream",
     "text": [
      "+-----------+--------------------+------+-----------+---------------+\n",
      "|     row_id|    public_flight_no|origin|destination|internal_flight|\n",
      "+-----------+--------------------+------+-----------+---------------+\n",
      "| 8589934592|    [FR5762, FR5761]|   PMI|        OPO|         [2, 1]|\n",
      "|60129542144|[FR5768, FR5769, ...|   HND|        OPO|   [8, 9, 7, 0]|\n",
      "|42949672960|[FR5765, FR5764, ...|   JKF|        LAX|      [5, 4, 6]|\n",
      "|25769803776|            [FR5763]|   ATH|        BCN|            [3]|\n",
      "+-----------+--------------------+------+-----------+---------------+\n",
      "\n"
     ]
    }
   ],
   "source": [
    "trips_with_flight_name.show()"
   ]
  },
  {
   "cell_type": "code",
   "execution_count": 279,
   "metadata": {},
   "outputs": [],
   "source": [
    "trips_with_flight_name = trips_with_flight_name.drop('row_id','internal_flight')"
   ]
  },
  {
   "cell_type": "code",
   "execution_count": 280,
   "metadata": {},
   "outputs": [
    {
     "name": "stdout",
     "output_type": "stream",
     "text": [
      "+--------------------+------+-----------+\n",
      "|    public_flight_no|origin|destination|\n",
      "+--------------------+------+-----------+\n",
      "|    [FR5762, FR5761]|   PMI|        OPO|\n",
      "|[FR5768, FR5769, ...|   HND|        OPO|\n",
      "|[FR5765, FR5764, ...|   JKF|        LAX|\n",
      "|            [FR5763]|   ATH|        BCN|\n",
      "+--------------------+------+-----------+\n",
      "\n"
     ]
    }
   ],
   "source": [
    "trips_with_flight_name.show()"
   ]
  },
  {
   "cell_type": "code",
   "execution_count": null,
   "metadata": {},
   "outputs": [],
   "source": []
  }
 ],
 "metadata": {
  "kernelspec": {
   "display_name": "Python 3",
   "language": "python",
   "name": "python3"
  },
  "language_info": {
   "codemirror_mode": {
    "name": "ipython",
    "version": 3
   },
   "file_extension": ".py",
   "mimetype": "text/x-python",
   "name": "python",
   "nbconvert_exporter": "python",
   "pygments_lexer": "ipython3",
   "version": "3.7.4"
  }
 },
 "nbformat": 4,
 "nbformat_minor": 2
}
