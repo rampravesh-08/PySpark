{
 "cells": [
  {
   "cell_type": "markdown",
   "metadata": {},
   "source": [
    "## PySpark SQL Practice"
   ]
  },
  {
   "cell_type": "code",
   "execution_count": 1,
   "metadata": {},
   "outputs": [],
   "source": [
    "import findspark\n",
    "findspark.init('C:\\\\spark\\\\spark-3.0.0-hadoop2.7')\n",
    "import pyspark"
   ]
  },
  {
   "cell_type": "code",
   "execution_count": 2,
   "metadata": {},
   "outputs": [],
   "source": [
    "from pyspark.sql import SparkSession"
   ]
  },
  {
   "cell_type": "code",
   "execution_count": 3,
   "metadata": {},
   "outputs": [],
   "source": [
    "spark = SparkSession.builder.appName('Basic').getOrCreate()"
   ]
  },
  {
   "cell_type": "code",
   "execution_count": 4,
   "metadata": {},
   "outputs": [
    {
     "data": {
      "text/html": [
       "\n",
       "            <div>\n",
       "                <p><b>SparkSession - in-memory</b></p>\n",
       "                \n",
       "        <div>\n",
       "            <p><b>SparkContext</b></p>\n",
       "\n",
       "            <p><a href=\"http://ESS17001DXB0559:4042\">Spark UI</a></p>\n",
       "\n",
       "            <dl>\n",
       "              <dt>Version</dt>\n",
       "                <dd><code>v3.0.0-preview2</code></dd>\n",
       "              <dt>Master</dt>\n",
       "                <dd><code>local[*]</code></dd>\n",
       "              <dt>AppName</dt>\n",
       "                <dd><code>Basic</code></dd>\n",
       "            </dl>\n",
       "        </div>\n",
       "        \n",
       "            </div>\n",
       "        "
      ],
      "text/plain": [
       "<pyspark.sql.session.SparkSession at 0x1cefffaf208>"
      ]
     },
     "execution_count": 4,
     "metadata": {},
     "output_type": "execute_result"
    }
   ],
   "source": [
    "spark"
   ]
  },
  {
   "cell_type": "code",
   "execution_count": 10,
   "metadata": {},
   "outputs": [],
   "source": [
    "ipl_df = spark.read.csv('C:\\\\RamPravesh\\\\BigData\\\\Dataset\\\\cricket_data\\\\IPL Player Stats - 2016 till 2019.csv',inferSchema=True,header = True)"
   ]
  },
  {
   "cell_type": "code",
   "execution_count": 11,
   "metadata": {},
   "outputs": [
    {
     "data": {
      "text/plain": [
       "[Row(Team='Delhi Daredevils', Player='CH Morris', Tournament='IPL 2016', Matches=12, Batting Innings='7', Not Out='4', Runds Scored='195', Highest Score='82*', Batting Average='65.00', Balls Faced='109', Batting Strike Rate='178.89', 100='0', 50='1', 0='1', 4s='15', 6s='12', Bowling Innings='12', Overs Bowled='44.0', Maidens Bowled='0', Runs Conceded='308', Wickets Taken='13', Best Bowling Figures='2/30', Bowling Average='23.69', Bowling Economy Rate='7.00', Bowling Strike Rate='20.3', 4+ Innings Wickets='0', 5+ Innings Wickets='0', Catches Taken=8, Stumpings Made=0),\n",
       " Row(Team='Delhi Daredevils', Player='CH Morris', Tournament='IPL 2017', Matches=9, Batting Innings='9', Not Out='4', Runds Scored='154', Highest Score='52*', Batting Average='30.80', Balls Faced='94', Batting Strike Rate='163.82', 100='0', 50='1', 0='0', 4s='15', 6s='6', Bowling Innings='9', Overs Bowled='31.0', Maidens Bowled='0', Runs Conceded='240', Wickets Taken='12', Best Bowling Figures='4/26', Bowling Average='20.00', Bowling Economy Rate='7.74', Bowling Strike Rate='15.5', 4+ Innings Wickets='1', 5+ Innings Wickets='0', Catches Taken=5, Stumpings Made=0)]"
      ]
     },
     "execution_count": 11,
     "metadata": {},
     "output_type": "execute_result"
    }
   ],
   "source": [
    "ipl_df.head(2)"
   ]
  },
  {
   "cell_type": "code",
   "execution_count": 12,
   "metadata": {},
   "outputs": [
    {
     "name": "stdout",
     "output_type": "stream",
     "text": [
      "root\n",
      " |-- Team: string (nullable = true)\n",
      " |-- Player: string (nullable = true)\n",
      " |-- Tournament: string (nullable = true)\n",
      " |-- Matches: integer (nullable = true)\n",
      " |-- Batting Innings: string (nullable = true)\n",
      " |-- Not Out: string (nullable = true)\n",
      " |-- Runds Scored: string (nullable = true)\n",
      " |-- Highest Score: string (nullable = true)\n",
      " |-- Batting Average: string (nullable = true)\n",
      " |-- Balls Faced: string (nullable = true)\n",
      " |-- Batting Strike Rate: string (nullable = true)\n",
      " |-- 100: string (nullable = true)\n",
      " |-- 50: string (nullable = true)\n",
      " |-- 0: string (nullable = true)\n",
      " |-- 4s: string (nullable = true)\n",
      " |-- 6s: string (nullable = true)\n",
      " |-- Bowling Innings: string (nullable = true)\n",
      " |-- Overs Bowled: string (nullable = true)\n",
      " |-- Maidens Bowled: string (nullable = true)\n",
      " |-- Runs Conceded: string (nullable = true)\n",
      " |-- Wickets Taken: string (nullable = true)\n",
      " |-- Best Bowling Figures: string (nullable = true)\n",
      " |-- Bowling Average: string (nullable = true)\n",
      " |-- Bowling Economy Rate: string (nullable = true)\n",
      " |-- Bowling Strike Rate: string (nullable = true)\n",
      " |-- 4+ Innings Wickets: string (nullable = true)\n",
      " |-- 5+ Innings Wickets: string (nullable = true)\n",
      " |-- Catches Taken: integer (nullable = true)\n",
      " |-- Stumpings Made: integer (nullable = true)\n",
      "\n"
     ]
    }
   ],
   "source": [
    "ipl_df.printSchema()"
   ]
  },
  {
   "cell_type": "code",
   "execution_count": 13,
   "metadata": {},
   "outputs": [
    {
     "data": {
      "text/plain": [
       "['Team',\n",
       " 'Player',\n",
       " 'Tournament',\n",
       " 'Matches',\n",
       " 'Batting Innings',\n",
       " 'Not Out',\n",
       " 'Runds Scored',\n",
       " 'Highest Score',\n",
       " 'Batting Average',\n",
       " 'Balls Faced',\n",
       " 'Batting Strike Rate',\n",
       " '100',\n",
       " '50',\n",
       " '0',\n",
       " '4s',\n",
       " '6s',\n",
       " 'Bowling Innings',\n",
       " 'Overs Bowled',\n",
       " 'Maidens Bowled',\n",
       " 'Runs Conceded',\n",
       " 'Wickets Taken',\n",
       " 'Best Bowling Figures',\n",
       " 'Bowling Average',\n",
       " 'Bowling Economy Rate',\n",
       " 'Bowling Strike Rate',\n",
       " '4+ Innings Wickets',\n",
       " '5+ Innings Wickets',\n",
       " 'Catches Taken',\n",
       " 'Stumpings Made']"
      ]
     },
     "execution_count": 13,
     "metadata": {},
     "output_type": "execute_result"
    }
   ],
   "source": [
    "ipl_df.columns"
   ]
  },
  {
   "cell_type": "code",
   "execution_count": 14,
   "metadata": {},
   "outputs": [
    {
     "data": {
      "text/plain": [
       "DataFrame[summary: string, Team: string, Player: string, Tournament: string, Matches: string, Batting Innings: string, Not Out: string, Runds Scored: string, Highest Score: string, Batting Average: string, Balls Faced: string, Batting Strike Rate: string, 100: string, 50: string, 0: string, 4s: string, 6s: string, Bowling Innings: string, Overs Bowled: string, Maidens Bowled: string, Runs Conceded: string, Wickets Taken: string, Best Bowling Figures: string, Bowling Average: string, Bowling Economy Rate: string, Bowling Strike Rate: string, 4+ Innings Wickets: string, 5+ Innings Wickets: string, Catches Taken: string, Stumpings Made: string]"
      ]
     },
     "execution_count": 14,
     "metadata": {},
     "output_type": "execute_result"
    }
   ],
   "source": [
    "ipl_df.describe()"
   ]
  },
  {
   "cell_type": "code",
   "execution_count": 15,
   "metadata": {},
   "outputs": [
    {
     "name": "stdout",
     "output_type": "stream",
     "text": [
      "+-------+-------------------+--------------+----------+-----------------+-----------------+------------------+------------------+-----------------+------------------+------------------+-------------------+--------------------+------------------+-------------------+------------------+------------------+-----------------+------------------+-------------------+------------------+-----------------+--------------------+-----------------+--------------------+-------------------+-------------------+--------------------+------------------+-------------------+\n",
      "|summary|               Team|        Player|Tournament|          Matches|  Batting Innings|           Not Out|      Runds Scored|    Highest Score|   Batting Average|       Balls Faced|Batting Strike Rate|                 100|                50|                  0|                4s|                6s|  Bowling Innings|      Overs Bowled|     Maidens Bowled|     Runs Conceded|    Wickets Taken|Best Bowling Figures|  Bowling Average|Bowling Economy Rate|Bowling Strike Rate| 4+ Innings Wickets|  5+ Innings Wickets|     Catches Taken|     Stumpings Made|\n",
      "+-------+-------------------+--------------+----------+-----------------+-----------------+------------------+------------------+-----------------+------------------+------------------+-------------------+--------------------+------------------+-------------------+------------------+------------------+-----------------+------------------+-------------------+------------------+-----------------+--------------------+-----------------+--------------------+-------------------+-------------------+--------------------+------------------+-------------------+\n",
      "|  count|                631|           631|       631|              631|              631|               631|               631|              631|               631|               631|                631|                 631|               631|                631|               631|               631|              631|               631|                631|               631|              631|                 631|              631|                 631|                631|                631|                 631|               631|                631|\n",
      "|   mean|               null|          null|      null|8.332805071315372| 6.38664323374341|1.5114235500878734|129.24428822495605|34.62099125364431|  20.2266866267465| 96.37609841827768| 112.89402852049925|0.040421792618629174|0.7240773286467487|0.45694200351493847|11.500878734622145| 5.270650263620387|6.864406779661017|21.992251815980644|0.15980629539951574|183.26634382566587|6.154963680387409|                null|37.39968208092486|   8.979104116222764| 25.654046242774577|0.08958837772397095|0.014527845036319613|2.8304278922345483|0.13153724247226625|\n",
      "| stddev|               null|          null|      null|5.055267712287339|4.890155835922454|1.5845733791405932|  164.477443142534|29.09164430906556|15.327276698735522|116.16199163645594|  49.69512648021836| 0.25889220515581923|1.3989936905227374| 0.7135448591340864|15.992089239388031|7.6451125715284505|4.751189626109959|  17.6305515394987| 0.4813330611806283|137.63687540520775|6.032694563802648|                null|25.19689774239408|  2.0750672983138543| 15.324096714071054| 0.3329962171576336| 0.11979789746625415| 3.073402484623615| 0.6571733709484983|\n",
      "|    min|Chennai Super Kings|A Ashish Reddy|  IPL 2016|                1|                -|                 -|                 -|                -|                 -|                 -|                  -|                   -|                 -|                  -|                 -|                 -|                -|                 -|                  -|                 -|                -|                   -|                -|                   -|                  -|                  -|                   -|                 0|                  0|\n",
      "|    max|Sunrisers Hyderabad|        Z Khan|  IPL 2019|               17|                9|                 9|                99|              99*|              9.66|                99|              98.55|                   4|                 9|                  3|                 9|                 9|                9|               9.3|                  4|                98|                9|                6/19|            94.25|                9.96|                9.2|                  3|                   1|                19|                  6|\n",
      "+-------+-------------------+--------------+----------+-----------------+-----------------+------------------+------------------+-----------------+------------------+------------------+-------------------+--------------------+------------------+-------------------+------------------+------------------+-----------------+------------------+-------------------+------------------+-----------------+--------------------+-----------------+--------------------+-------------------+-------------------+--------------------+------------------+-------------------+\n",
      "\n"
     ]
    }
   ],
   "source": [
    "ipl_df.describe().show()"
   ]
  },
  {
   "cell_type": "code",
   "execution_count": 18,
   "metadata": {},
   "outputs": [],
   "source": [
    "from pyspark.sql.types import StructField,StringType,IntegerType,FloatType,StructType\n"
   ]
  },
  {
   "cell_type": "code",
   "execution_count": 64,
   "metadata": {},
   "outputs": [],
   "source": [
    "data_schema=[StructField('Country',StringType(),True)\n",
    "             ,StructField('Team_Matches_Played',IntegerType(),True)\n",
    "             ,StructField('Matches_Won',IntegerType(),True)\n",
    "            ,StructField('Matches_Lost',IntegerType(),True)\n",
    "            ,StructField('Matches_Tied',IntegerType(),True)\n",
    "            ,StructField('Matches_With_No_Result',IntegerType(),True)\n",
    "            ,StructField('WinLoss_Ratio',FloatType(),True)\n",
    "            ,StructField('Avg_Runs_Wicket_Batting',FloatType(),True)\n",
    "            ,StructField('Avg_Runs_Per_Six_Balls_Batting',FloatType(),True)\n",
    "            ,StructField('Number_Of_Team_Innings_Batting',IntegerType(),True)\n",
    "            ,StructField('Highest_Team_Score_Batting',IntegerType(),True)\n",
    "            ,StructField('Lowest_Completed_Score_Batting',IntegerType(),True)]"
   ]
  },
  {
   "cell_type": "code",
   "execution_count": 65,
   "metadata": {},
   "outputs": [],
   "source": [
    "final_struct = StructType(fields=data_schema)"
   ]
  },
  {
   "cell_type": "code",
   "execution_count": 66,
   "metadata": {},
   "outputs": [],
   "source": [
    "ODI_Team_DF=spark.read.csv('C:\\\\RamPravesh\\\\BigData\\\\Dataset\\\\cricket_data\\\\Men ODI Team Batting Stats.csv',schema=final_struct,header = True)"
   ]
  },
  {
   "cell_type": "code",
   "execution_count": 67,
   "metadata": {},
   "outputs": [
    {
     "name": "stdout",
     "output_type": "stream",
     "text": [
      "+------------+-------------------+-----------+------------+------------+----------------------+-------------+-----------------------+------------------------------+------------------------------+--------------------------+------------------------------+\n",
      "|     Country|Team_Matches_Played|Matches_Won|Matches_Lost|Matches_Tied|Matches_With_No_Result|WinLoss_Ratio|Avg_Runs_Wicket_Batting|Avg_Runs_Per_Six_Balls_Batting|Number_Of_Team_Innings_Batting|Highest_Team_Score_Batting|Lowest_Completed_Score_Batting|\n",
      "+------------+-------------------+-----------+------------+------------+----------------------+-------------+-----------------------+------------------------------+------------------------------+--------------------------+------------------------------+\n",
      "|     England|                746|        375|         334|           9|                    28|        1.122|                   31.1|                          4.91|                           738|                       481|                            86|\n",
      "|   Australia|                949|        575|         331|           9|                    34|        1.737|                  34.14|                          5.01|                           939|                       434|                            70|\n",
      "|South Africa|                625|        385|         216|           6|                    18|        1.782|                  35.76|                          5.11|                           622|                       439|                            69|\n",
      "| West Indies|                822|        401|         381|          10|                    30|        1.052|                   30.2|                          4.78|                           811|                       389|                            54|\n",
      "| New Zealand|                772|        351|         374|           7|                    40|        0.938|                  29.21|                          4.82|                           757|                       402|                            64|\n",
      "|       India|                987|        513|         424|           9|                    41|        1.209|                  33.77|                          5.06|                           975|                       418|                            54|\n",
      "|    Pakistan|                927|        486|         413|           8|                    20|        1.176|                  30.65|                          4.83|                           926|                       399|                            43|\n",
      "|   Sri Lanka|                852|        389|         421|           5|                    37|        0.923|                  29.53|                          4.91|                           836|                       443|                            43|\n",
      "|    Zimbabwe|                529|        138|         373|           7|                    11|        0.369|                  25.31|                          4.51|                           525|                       351|                            35|\n",
      "|     Bermuda|                 35|          7|          28|           0|                     0|         0.25|                  21.68|                           4.1|                            35|                       275|                            78|\n",
      "| Netherlands|                 80|         31|          45|           1|                     3|        0.688|                  25.76|                          4.54|                            79|                       315|                            80|\n",
      "|  Bangladesh|                376|        128|         241|           0|                     7|        0.531|                  25.71|                          4.59|                           373|                       333|                            58|\n",
      "|       Kenya|                154|         42|         107|           0|                     5|        0.392|                  23.01|                          4.25|                           151|                       347|                            69|\n",
      "|     Namibia|                 14|          5|           9|           0|                     0|        0.555|                  21.66|                          4.53|                            14|                       324|                            45|\n",
      "|     Ireland|                156|         67|          78|           3|                     8|        0.858|                  26.89|                           4.8|                           153|                       331|                            77|\n",
      "|    Scotland|                115|         42|          66|           1|                     6|        0.636|                  25.38|                          4.62|                           113|                       371|                            68|\n",
      "| Afghanistan|                126|         59|          63|           1|                     3|        0.936|                  26.42|                          4.73|                           125|                       338|                            58|\n",
      "+------------+-------------------+-----------+------------+------------+----------------------+-------------+-----------------------+------------------------------+------------------------------+--------------------------+------------------------------+\n",
      "\n"
     ]
    }
   ],
   "source": [
    "ODI_Team_DF.show()"
   ]
  },
  {
   "cell_type": "code",
   "execution_count": 68,
   "metadata": {},
   "outputs": [
    {
     "name": "stdout",
     "output_type": "stream",
     "text": [
      "root\n",
      " |-- Country: string (nullable = true)\n",
      " |-- Team_Matches_Played: integer (nullable = true)\n",
      " |-- Matches_Won: integer (nullable = true)\n",
      " |-- Matches_Lost: integer (nullable = true)\n",
      " |-- Matches_Tied: integer (nullable = true)\n",
      " |-- Matches_With_No_Result: integer (nullable = true)\n",
      " |-- WinLoss_Ratio: float (nullable = true)\n",
      " |-- Avg_Runs_Wicket_Batting: float (nullable = true)\n",
      " |-- Avg_Runs_Per_Six_Balls_Batting: float (nullable = true)\n",
      " |-- Number_Of_Team_Innings_Batting: integer (nullable = true)\n",
      " |-- Highest_Team_Score_Batting: integer (nullable = true)\n",
      " |-- Lowest_Completed_Score_Batting: integer (nullable = true)\n",
      "\n"
     ]
    }
   ],
   "source": [
    "ODI_Team_DF.printSchema()"
   ]
  },
  {
   "cell_type": "code",
   "execution_count": 69,
   "metadata": {},
   "outputs": [
    {
     "data": {
      "text/plain": [
       "['Country',\n",
       " 'Team_Matches_Played',\n",
       " 'Matches_Won',\n",
       " 'Matches_Lost',\n",
       " 'Matches_Tied',\n",
       " 'Matches_With_No_Result',\n",
       " 'WinLoss_Ratio',\n",
       " 'Avg_Runs_Wicket_Batting',\n",
       " 'Avg_Runs_Per_Six_Balls_Batting',\n",
       " 'Number_Of_Team_Innings_Batting',\n",
       " 'Highest_Team_Score_Batting',\n",
       " 'Lowest_Completed_Score_Batting']"
      ]
     },
     "execution_count": 69,
     "metadata": {},
     "output_type": "execute_result"
    }
   ],
   "source": [
    "ODI_Team_DF.columns"
   ]
  },
  {
   "cell_type": "code",
   "execution_count": 70,
   "metadata": {},
   "outputs": [
    {
     "data": {
      "text/plain": [
       "DataFrame[summary: string, Country: string, Team_Matches_Played: string, Matches_Won: string, Matches_Lost: string, Matches_Tied: string, Matches_With_No_Result: string, WinLoss_Ratio: string, Avg_Runs_Wicket_Batting: string, Avg_Runs_Per_Six_Balls_Batting: string, Number_Of_Team_Innings_Batting: string, Highest_Team_Score_Batting: string, Lowest_Completed_Score_Batting: string]"
      ]
     },
     "execution_count": 70,
     "metadata": {},
     "output_type": "execute_result"
    }
   ],
   "source": [
    "ODI_Team_DF.describe()"
   ]
  },
  {
   "cell_type": "code",
   "execution_count": 71,
   "metadata": {},
   "outputs": [
    {
     "name": "stdout",
     "output_type": "stream",
     "text": [
      "+-------+-----------+-------------------+------------------+------------------+-----------------+----------------------+-------------------+-----------------------+------------------------------+------------------------------+--------------------------+------------------------------+\n",
      "|summary|    Country|Team_Matches_Played|       Matches_Won|      Matches_Lost|     Matches_Tied|Matches_With_No_Result|      WinLoss_Ratio|Avg_Runs_Wicket_Batting|Avg_Runs_Per_Six_Balls_Batting|Number_Of_Team_Innings_Batting|Highest_Team_Score_Batting|Lowest_Completed_Score_Batting|\n",
      "+-------+-----------+-------------------+------------------+------------------+-----------------+----------------------+-------------------+-----------------------+------------------------------+------------------------------+--------------------------+------------------------------+\n",
      "|  count|         17|                 17|                17|                17|               17|                    17|                 17|                     17|                            17|                            17|                        17|                            17|\n",
      "|   mean|       null|  486.1764705882353|234.94117647058823|229.64705882352942|4.470588235294118|     17.11764705882353| 0.8914117602741017|      28.01058802885168|             4.711764756370993|            480.70588235294116|        375.88235294117646|              61.8235294117647|\n",
      "| stddev|       null|  367.9974923987454|203.68004031698695|160.04137792164508|3.858718165706448|     14.88658100833254|0.43722620065854934|      4.254515813087905|             0.273843838704955|            363.98038489489414|         55.57639151760076|            14.753115324049558|\n",
      "|    min|Afghanistan|                 14|                 5|                 9|                0|                     0|               0.25|                  21.66|                           4.1|                            14|                       275|                            35|\n",
      "|    max|   Zimbabwe|                987|               575|               424|               10|                    41|              1.782|                  35.76|                          5.11|                           975|                       481|                            86|\n",
      "+-------+-----------+-------------------+------------------+------------------+-----------------+----------------------+-------------------+-----------------------+------------------------------+------------------------------+--------------------------+------------------------------+\n",
      "\n"
     ]
    }
   ],
   "source": [
    "ODI_Team_DF.describe().show()"
   ]
  },
  {
   "cell_type": "code",
   "execution_count": 72,
   "metadata": {},
   "outputs": [
    {
     "data": {
      "text/plain": [
       "Column<b'Country'>"
      ]
     },
     "execution_count": 72,
     "metadata": {},
     "output_type": "execute_result"
    }
   ],
   "source": [
    "ODI_Team_DF['Country']"
   ]
  },
  {
   "cell_type": "code",
   "execution_count": 73,
   "metadata": {},
   "outputs": [
    {
     "data": {
      "text/plain": [
       "pyspark.sql.column.Column"
      ]
     },
     "execution_count": 73,
     "metadata": {},
     "output_type": "execute_result"
    }
   ],
   "source": [
    "type(ODI_Team_DF['Country'])"
   ]
  },
  {
   "cell_type": "code",
   "execution_count": 74,
   "metadata": {},
   "outputs": [
    {
     "data": {
      "text/plain": [
       "DataFrame[Country: string]"
      ]
     },
     "execution_count": 74,
     "metadata": {},
     "output_type": "execute_result"
    }
   ],
   "source": [
    "ODI_Team_DF.select('Country')"
   ]
  },
  {
   "cell_type": "code",
   "execution_count": 75,
   "metadata": {},
   "outputs": [
    {
     "data": {
      "text/plain": [
       "pyspark.sql.dataframe.DataFrame"
      ]
     },
     "execution_count": 75,
     "metadata": {},
     "output_type": "execute_result"
    }
   ],
   "source": [
    "type(ODI_Team_DF.select('Country'))"
   ]
  },
  {
   "cell_type": "code",
   "execution_count": 76,
   "metadata": {},
   "outputs": [
    {
     "name": "stdout",
     "output_type": "stream",
     "text": [
      "+------------+\n",
      "|     Country|\n",
      "+------------+\n",
      "|     England|\n",
      "|   Australia|\n",
      "|South Africa|\n",
      "| West Indies|\n",
      "| New Zealand|\n",
      "|       India|\n",
      "|    Pakistan|\n",
      "|   Sri Lanka|\n",
      "|    Zimbabwe|\n",
      "|     Bermuda|\n",
      "| Netherlands|\n",
      "|  Bangladesh|\n",
      "|       Kenya|\n",
      "|     Namibia|\n",
      "|     Ireland|\n",
      "|    Scotland|\n",
      "| Afghanistan|\n",
      "+------------+\n",
      "\n"
     ]
    }
   ],
   "source": [
    "ODI_Team_DF.select('Country').show()"
   ]
  },
  {
   "cell_type": "code",
   "execution_count": 77,
   "metadata": {},
   "outputs": [
    {
     "data": {
      "text/plain": [
       "[Row(Country='England', Team_Matches_Played=746, Matches_Won=375, Matches_Lost=334, Matches_Tied=9, Matches_With_No_Result=28, WinLoss_Ratio=1.121999979019165, Avg_Runs_Wicket_Batting=31.100000381469727, Avg_Runs_Per_Six_Balls_Batting=4.909999847412109, Number_Of_Team_Innings_Batting=738, Highest_Team_Score_Batting=481, Lowest_Completed_Score_Batting=86),\n",
       " Row(Country='Australia', Team_Matches_Played=949, Matches_Won=575, Matches_Lost=331, Matches_Tied=9, Matches_With_No_Result=34, WinLoss_Ratio=1.7369999885559082, Avg_Runs_Wicket_Batting=34.13999938964844, Avg_Runs_Per_Six_Balls_Batting=5.010000228881836, Number_Of_Team_Innings_Batting=939, Highest_Team_Score_Batting=434, Lowest_Completed_Score_Batting=70)]"
      ]
     },
     "execution_count": 77,
     "metadata": {},
     "output_type": "execute_result"
    }
   ],
   "source": [
    "ODI_Team_DF.head(2)"
   ]
  },
  {
   "cell_type": "code",
   "execution_count": 85,
   "metadata": {},
   "outputs": [
    {
     "data": {
      "text/plain": [
       "DataFrame[Country: string, Matches_Won: int]"
      ]
     },
     "execution_count": 85,
     "metadata": {},
     "output_type": "execute_result"
    }
   ],
   "source": [
    "ODI_Team_DF.select(['Country','Matches_Won'])"
   ]
  },
  {
   "cell_type": "code",
   "execution_count": 86,
   "metadata": {},
   "outputs": [
    {
     "name": "stdout",
     "output_type": "stream",
     "text": [
      "+------------+-----------+\n",
      "|     Country|Matches_Won|\n",
      "+------------+-----------+\n",
      "|     England|        375|\n",
      "|   Australia|        575|\n",
      "|South Africa|        385|\n",
      "| West Indies|        401|\n",
      "| New Zealand|        351|\n",
      "|       India|        513|\n",
      "|    Pakistan|        486|\n",
      "|   Sri Lanka|        389|\n",
      "|    Zimbabwe|        138|\n",
      "|     Bermuda|          7|\n",
      "| Netherlands|         31|\n",
      "|  Bangladesh|        128|\n",
      "|       Kenya|         42|\n",
      "|     Namibia|          5|\n",
      "|     Ireland|         67|\n",
      "|    Scotland|         42|\n",
      "| Afghanistan|         59|\n",
      "+------------+-----------+\n",
      "\n"
     ]
    }
   ],
   "source": [
    "ODI_Team_DF.select(['Country','Matches_Won']).show()"
   ]
  },
  {
   "cell_type": "code",
   "execution_count": 87,
   "metadata": {},
   "outputs": [
    {
     "name": "stdout",
     "output_type": "stream",
     "text": [
      "+------------+-------------------+\n",
      "|     Country|Overall_Performance|\n",
      "+------------+-------------------+\n",
      "|     England|                 41|\n",
      "|   Australia|                244|\n",
      "|South Africa|                169|\n",
      "| West Indies|                 20|\n",
      "| New Zealand|                -23|\n",
      "|       India|                 89|\n",
      "|    Pakistan|                 73|\n",
      "|   Sri Lanka|                -32|\n",
      "|    Zimbabwe|               -235|\n",
      "|     Bermuda|                -21|\n",
      "| Netherlands|                -14|\n",
      "|  Bangladesh|               -113|\n",
      "|       Kenya|                -65|\n",
      "|     Namibia|                 -4|\n",
      "|     Ireland|                -11|\n",
      "|    Scotland|                -24|\n",
      "| Afghanistan|                 -4|\n",
      "+------------+-------------------+\n",
      "\n"
     ]
    }
   ],
   "source": [
    "# Added New Column with a simple copy\n",
    "ODI_Team_DF.withColumn('Overall_Performance',(ODI_Team_DF['Matches_Won']-ODI_Team_DF['Matches_Lost']))['Country','Overall_Performance'].show()"
   ]
  },
  {
   "cell_type": "code",
   "execution_count": 88,
   "metadata": {},
   "outputs": [
    {
     "data": {
      "text/plain": [
       "[Row(Country='England', Team_Matches_Played=746, Matches_Won=375, Matches_Lost=334, Matches_Tied=9, Matches_With_No_Result=28, WinLoss_Ratio=1.121999979019165, Avg_Runs_Wicket_Batting=31.100000381469727, Avg_Runs_Per_Six_Balls_Batting=4.909999847412109, Number_Of_Team_Innings_Batting=738, Highest_Team_Score_Batting=481, Lowest_Completed_Score_Batting=86),\n",
       " Row(Country='Australia', Team_Matches_Played=949, Matches_Won=575, Matches_Lost=331, Matches_Tied=9, Matches_With_No_Result=34, WinLoss_Ratio=1.7369999885559082, Avg_Runs_Wicket_Batting=34.13999938964844, Avg_Runs_Per_Six_Balls_Batting=5.010000228881836, Number_Of_Team_Innings_Batting=939, Highest_Team_Score_Batting=434, Lowest_Completed_Score_Batting=70)]"
      ]
     },
     "execution_count": 88,
     "metadata": {},
     "output_type": "execute_result"
    }
   ],
   "source": [
    "ODI_Team_DF.head(2)"
   ]
  },
  {
   "cell_type": "code",
   "execution_count": 89,
   "metadata": {},
   "outputs": [
    {
     "name": "stdout",
     "output_type": "stream",
     "text": [
      "+------------+-------------------+-----------+------------+------------+----------------------+-------------+-----------------------+------------------------------+------------------------------+--------------------------+------------------------------+\n",
      "|     Country|Team_Matches_Played|Matches_Won|Matches_Lost|Matches_Tied|Matches_With_No_Result|WinLoss_Ratio|Avg_Runs_Wicket_Batting|Avg_Runs_Per_Six_Balls_Batting|Number_Of_Team_Innings_Batting|Highest_Team_Score_Batting|Lowest_Completed_Score_Batting|\n",
      "+------------+-------------------+-----------+------------+------------+----------------------+-------------+-----------------------+------------------------------+------------------------------+--------------------------+------------------------------+\n",
      "|     England|                746|        375|         334|           9|                    28|        1.122|                   31.1|                          4.91|                           738|                       481|                            86|\n",
      "|   Australia|                949|        575|         331|           9|                    34|        1.737|                  34.14|                          5.01|                           939|                       434|                            70|\n",
      "|South Africa|                625|        385|         216|           6|                    18|        1.782|                  35.76|                          5.11|                           622|                       439|                            69|\n",
      "| West Indies|                822|        401|         381|          10|                    30|        1.052|                   30.2|                          4.78|                           811|                       389|                            54|\n",
      "| New Zealand|                772|        351|         374|           7|                    40|        0.938|                  29.21|                          4.82|                           757|                       402|                            64|\n",
      "|       India|                987|        513|         424|           9|                    41|        1.209|                  33.77|                          5.06|                           975|                       418|                            54|\n",
      "|    Pakistan|                927|        486|         413|           8|                    20|        1.176|                  30.65|                          4.83|                           926|                       399|                            43|\n",
      "|   Sri Lanka|                852|        389|         421|           5|                    37|        0.923|                  29.53|                          4.91|                           836|                       443|                            43|\n",
      "|    Zimbabwe|                529|        138|         373|           7|                    11|        0.369|                  25.31|                          4.51|                           525|                       351|                            35|\n",
      "|     Bermuda|                 35|          7|          28|           0|                     0|         0.25|                  21.68|                           4.1|                            35|                       275|                            78|\n",
      "| Netherlands|                 80|         31|          45|           1|                     3|        0.688|                  25.76|                          4.54|                            79|                       315|                            80|\n",
      "|  Bangladesh|                376|        128|         241|           0|                     7|        0.531|                  25.71|                          4.59|                           373|                       333|                            58|\n",
      "|       Kenya|                154|         42|         107|           0|                     5|        0.392|                  23.01|                          4.25|                           151|                       347|                            69|\n",
      "|     Namibia|                 14|          5|           9|           0|                     0|        0.555|                  21.66|                          4.53|                            14|                       324|                            45|\n",
      "|     Ireland|                156|         67|          78|           3|                     8|        0.858|                  26.89|                           4.8|                           153|                       331|                            77|\n",
      "|    Scotland|                115|         42|          66|           1|                     6|        0.636|                  25.38|                          4.62|                           113|                       371|                            68|\n",
      "| Afghanistan|                126|         59|          63|           1|                     3|        0.936|                  26.42|                          4.73|                           125|                       338|                            58|\n",
      "+------------+-------------------+-----------+------------+------------+----------------------+-------------+-----------------------+------------------------------+------------------------------+--------------------------+------------------------------+\n",
      "\n"
     ]
    }
   ],
   "source": [
    "# Renamed a column\n",
    "ODI_Team_DF.withColumnRenamed('Lowest Completed Score Batting','Lowest Total').show()"
   ]
  },
  {
   "cell_type": "code",
   "execution_count": 90,
   "metadata": {},
   "outputs": [
    {
     "name": "stdout",
     "output_type": "stream",
     "text": [
      "+------------+-------------------+-----------+------------+------------+----------------------+-------------+-----------------------+------------------------------+------------------------------+--------------------------+------------------------------+\n",
      "|     Country|Team_Matches_Played|Matches_Won|Matches_Lost|Matches_Tied|Matches_With_No_Result|WinLoss_Ratio|Avg_Runs_Wicket_Batting|Avg_Runs_Per_Six_Balls_Batting|Number_Of_Team_Innings_Batting|Highest_Team_Score_Batting|Lowest_Completed_Score_Batting|\n",
      "+------------+-------------------+-----------+------------+------------+----------------------+-------------+-----------------------+------------------------------+------------------------------+--------------------------+------------------------------+\n",
      "|     England|                746|        375|         334|           9|                    28|        1.122|                   31.1|                          4.91|                           738|                       481|                            86|\n",
      "|   Australia|                949|        575|         331|           9|                    34|        1.737|                  34.14|                          5.01|                           939|                       434|                            70|\n",
      "|South Africa|                625|        385|         216|           6|                    18|        1.782|                  35.76|                          5.11|                           622|                       439|                            69|\n",
      "| West Indies|                822|        401|         381|          10|                    30|        1.052|                   30.2|                          4.78|                           811|                       389|                            54|\n",
      "| New Zealand|                772|        351|         374|           7|                    40|        0.938|                  29.21|                          4.82|                           757|                       402|                            64|\n",
      "|       India|                987|        513|         424|           9|                    41|        1.209|                  33.77|                          5.06|                           975|                       418|                            54|\n",
      "|    Pakistan|                927|        486|         413|           8|                    20|        1.176|                  30.65|                          4.83|                           926|                       399|                            43|\n",
      "|   Sri Lanka|                852|        389|         421|           5|                    37|        0.923|                  29.53|                          4.91|                           836|                       443|                            43|\n",
      "|    Zimbabwe|                529|        138|         373|           7|                    11|        0.369|                  25.31|                          4.51|                           525|                       351|                            35|\n",
      "|     Bermuda|                 35|          7|          28|           0|                     0|         0.25|                  21.68|                           4.1|                            35|                       275|                            78|\n",
      "| Netherlands|                 80|         31|          45|           1|                     3|        0.688|                  25.76|                          4.54|                            79|                       315|                            80|\n",
      "|  Bangladesh|                376|        128|         241|           0|                     7|        0.531|                  25.71|                          4.59|                           373|                       333|                            58|\n",
      "|       Kenya|                154|         42|         107|           0|                     5|        0.392|                  23.01|                          4.25|                           151|                       347|                            69|\n",
      "|     Namibia|                 14|          5|           9|           0|                     0|        0.555|                  21.66|                          4.53|                            14|                       324|                            45|\n",
      "|     Ireland|                156|         67|          78|           3|                     8|        0.858|                  26.89|                           4.8|                           153|                       331|                            77|\n",
      "|    Scotland|                115|         42|          66|           1|                     6|        0.636|                  25.38|                          4.62|                           113|                       371|                            68|\n",
      "| Afghanistan|                126|         59|          63|           1|                     3|        0.936|                  26.42|                          4.73|                           125|                       338|                            58|\n",
      "+------------+-------------------+-----------+------------+------------+----------------------+-------------+-----------------------+------------------------------+------------------------------+--------------------------+------------------------------+\n",
      "\n"
     ]
    }
   ],
   "source": [
    "ODI_Team_DF.show()"
   ]
  },
  {
   "cell_type": "markdown",
   "metadata": {},
   "source": [
    "# Using SQL: To use SQL directly with the dataframe, you will need to register it to a temporary view."
   ]
  },
  {
   "cell_type": "code",
   "execution_count": 91,
   "metadata": {},
   "outputs": [],
   "source": [
    "# Register Dataframe as a SQL temporary view\n",
    "ODI_Team_DF.createOrReplaceTempView(\"ODI_Team_Match_Statics\")"
   ]
  },
  {
   "cell_type": "code",
   "execution_count": 92,
   "metadata": {},
   "outputs": [],
   "source": [
    "resultset_all_rec = spark.sql(\"select * from ODI_Team_Match_Statics\")"
   ]
  },
  {
   "cell_type": "code",
   "execution_count": 93,
   "metadata": {},
   "outputs": [
    {
     "data": {
      "text/plain": [
       "DataFrame[Country: string, Team_Matches_Played: int, Matches_Won: int, Matches_Lost: int, Matches_Tied: int, Matches_With_No_Result: int, WinLoss_Ratio: float, Avg_Runs_Wicket_Batting: float, Avg_Runs_Per_Six_Balls_Batting: float, Number_Of_Team_Innings_Batting: int, Highest_Team_Score_Batting: int, Lowest_Completed_Score_Batting: int]"
      ]
     },
     "execution_count": 93,
     "metadata": {},
     "output_type": "execute_result"
    }
   ],
   "source": [
    "resultset_all_rec"
   ]
  },
  {
   "cell_type": "code",
   "execution_count": 94,
   "metadata": {},
   "outputs": [
    {
     "name": "stdout",
     "output_type": "stream",
     "text": [
      "+------------+-------------------+-----------+------------+------------+----------------------+-------------+-----------------------+------------------------------+------------------------------+--------------------------+------------------------------+\n",
      "|     Country|Team_Matches_Played|Matches_Won|Matches_Lost|Matches_Tied|Matches_With_No_Result|WinLoss_Ratio|Avg_Runs_Wicket_Batting|Avg_Runs_Per_Six_Balls_Batting|Number_Of_Team_Innings_Batting|Highest_Team_Score_Batting|Lowest_Completed_Score_Batting|\n",
      "+------------+-------------------+-----------+------------+------------+----------------------+-------------+-----------------------+------------------------------+------------------------------+--------------------------+------------------------------+\n",
      "|     England|                746|        375|         334|           9|                    28|        1.122|                   31.1|                          4.91|                           738|                       481|                            86|\n",
      "|   Australia|                949|        575|         331|           9|                    34|        1.737|                  34.14|                          5.01|                           939|                       434|                            70|\n",
      "|South Africa|                625|        385|         216|           6|                    18|        1.782|                  35.76|                          5.11|                           622|                       439|                            69|\n",
      "| West Indies|                822|        401|         381|          10|                    30|        1.052|                   30.2|                          4.78|                           811|                       389|                            54|\n",
      "| New Zealand|                772|        351|         374|           7|                    40|        0.938|                  29.21|                          4.82|                           757|                       402|                            64|\n",
      "|       India|                987|        513|         424|           9|                    41|        1.209|                  33.77|                          5.06|                           975|                       418|                            54|\n",
      "|    Pakistan|                927|        486|         413|           8|                    20|        1.176|                  30.65|                          4.83|                           926|                       399|                            43|\n",
      "|   Sri Lanka|                852|        389|         421|           5|                    37|        0.923|                  29.53|                          4.91|                           836|                       443|                            43|\n",
      "|    Zimbabwe|                529|        138|         373|           7|                    11|        0.369|                  25.31|                          4.51|                           525|                       351|                            35|\n",
      "|     Bermuda|                 35|          7|          28|           0|                     0|         0.25|                  21.68|                           4.1|                            35|                       275|                            78|\n",
      "| Netherlands|                 80|         31|          45|           1|                     3|        0.688|                  25.76|                          4.54|                            79|                       315|                            80|\n",
      "|  Bangladesh|                376|        128|         241|           0|                     7|        0.531|                  25.71|                          4.59|                           373|                       333|                            58|\n",
      "|       Kenya|                154|         42|         107|           0|                     5|        0.392|                  23.01|                          4.25|                           151|                       347|                            69|\n",
      "|     Namibia|                 14|          5|           9|           0|                     0|        0.555|                  21.66|                          4.53|                            14|                       324|                            45|\n",
      "|     Ireland|                156|         67|          78|           3|                     8|        0.858|                  26.89|                           4.8|                           153|                       331|                            77|\n",
      "|    Scotland|                115|         42|          66|           1|                     6|        0.636|                  25.38|                          4.62|                           113|                       371|                            68|\n",
      "| Afghanistan|                126|         59|          63|           1|                     3|        0.936|                  26.42|                          4.73|                           125|                       338|                            58|\n",
      "+------------+-------------------+-----------+------------+------------+----------------------+-------------+-----------------------+------------------------------+------------------------------+--------------------------+------------------------------+\n",
      "\n"
     ]
    }
   ],
   "source": [
    "resultset_all_rec.show()"
   ]
  },
  {
   "cell_type": "code",
   "execution_count": 95,
   "metadata": {},
   "outputs": [
    {
     "name": "stdout",
     "output_type": "stream",
     "text": [
      "+-------+-------------------+-----------+------------+------------+----------------------+-------------+-----------------------+------------------------------+------------------------------+--------------------------+------------------------------+\n",
      "|Country|Team_Matches_Played|Matches_Won|Matches_Lost|Matches_Tied|Matches_With_No_Result|WinLoss_Ratio|Avg_Runs_Wicket_Batting|Avg_Runs_Per_Six_Balls_Batting|Number_Of_Team_Innings_Batting|Highest_Team_Score_Batting|Lowest_Completed_Score_Batting|\n",
      "+-------+-------------------+-----------+------------+------------+----------------------+-------------+-----------------------+------------------------------+------------------------------+--------------------------+------------------------------+\n",
      "|  India|                987|        513|         424|           9|                    41|        1.209|                  33.77|                          5.06|                           975|                       418|                            54|\n",
      "+-------+-------------------+-----------+------------+------------+----------------------+-------------+-----------------------+------------------------------+------------------------------+--------------------------+------------------------------+\n",
      "\n"
     ]
    }
   ],
   "source": [
    "spark.sql(\"select * from ODI_Team_Match_Statics where Country='India' \").show()"
   ]
  },
  {
   "cell_type": "code",
   "execution_count": 96,
   "metadata": {},
   "outputs": [
    {
     "name": "stdout",
     "output_type": "stream",
     "text": [
      "+-------+-------------------+-----------+------------+------------+----------------------+-------------+-----------------------+------------------------------+------------------------------+--------------------------+------------------------------+\n",
      "|Country|Team_Matches_Played|Matches_Won|Matches_Lost|Matches_Tied|Matches_With_No_Result|WinLoss_Ratio|Avg_Runs_Wicket_Batting|Avg_Runs_Per_Six_Balls_Batting|Number_Of_Team_Innings_Batting|Highest_Team_Score_Batting|Lowest_Completed_Score_Batting|\n",
      "+-------+-------------------+-----------+------------+------------+----------------------+-------------+-----------------------+------------------------------+------------------------------+--------------------------+------------------------------+\n",
      "|  India|                987|        513|         424|           9|                    41|        1.209|                  33.77|                          5.06|                           975|                       418|                            54|\n",
      "+-------+-------------------+-----------+------------+------------+----------------------+-------------+-----------------------+------------------------------+------------------------------+--------------------------+------------------------------+\n",
      "\n"
     ]
    }
   ],
   "source": [
    "ODI_Team_DF.filter(ODI_Team_DF.Country=='India').show()"
   ]
  },
  {
   "cell_type": "code",
   "execution_count": 97,
   "metadata": {},
   "outputs": [
    {
     "name": "stdout",
     "output_type": "stream",
     "text": [
      "+------------+-------------------+-----------+------------+------------+----------------------+-------------+-----------------------+------------------------------+------------------------------+--------------------------+------------------------------+\n",
      "|     Country|Team_Matches_Played|Matches_Won|Matches_Lost|Matches_Tied|Matches_With_No_Result|WinLoss_Ratio|Avg_Runs_Wicket_Batting|Avg_Runs_Per_Six_Balls_Batting|Number_Of_Team_Innings_Batting|Highest_Team_Score_Batting|Lowest_Completed_Score_Batting|\n",
      "+------------+-------------------+-----------+------------+------------+----------------------+-------------+-----------------------+------------------------------+------------------------------+--------------------------+------------------------------+\n",
      "|     England|                746|        375|         334|           9|                    28|        1.122|                   31.1|                          4.91|                           738|                       481|                            86|\n",
      "|   Australia|                949|        575|         331|           9|                    34|        1.737|                  34.14|                          5.01|                           939|                       434|                            70|\n",
      "|South Africa|                625|        385|         216|           6|                    18|        1.782|                  35.76|                          5.11|                           622|                       439|                            69|\n",
      "| West Indies|                822|        401|         381|          10|                    30|        1.052|                   30.2|                          4.78|                           811|                       389|                            54|\n",
      "| New Zealand|                772|        351|         374|           7|                    40|        0.938|                  29.21|                          4.82|                           757|                       402|                            64|\n",
      "|       India|                987|        513|         424|           9|                    41|        1.209|                  33.77|                          5.06|                           975|                       418|                            54|\n",
      "|    Pakistan|                927|        486|         413|           8|                    20|        1.176|                  30.65|                          4.83|                           926|                       399|                            43|\n",
      "|   Sri Lanka|                852|        389|         421|           5|                    37|        0.923|                  29.53|                          4.91|                           836|                       443|                            43|\n",
      "|    Zimbabwe|                529|        138|         373|           7|                    11|        0.369|                  25.31|                          4.51|                           525|                       351|                            35|\n",
      "+------------+-------------------+-----------+------------+------------+----------------------+-------------+-----------------------+------------------------------+------------------------------+--------------------------+------------------------------+\n",
      "\n"
     ]
    }
   ],
   "source": [
    "ODI_Team_DF.filter(ODI_Team_DF['Team_Matches_Played']>500).show()"
   ]
  },
  {
   "cell_type": "code",
   "execution_count": 99,
   "metadata": {},
   "outputs": [
    {
     "name": "stdout",
     "output_type": "stream",
     "text": [
      "+------------+\n",
      "|     Country|\n",
      "+------------+\n",
      "|     England|\n",
      "|   Australia|\n",
      "|South Africa|\n",
      "| West Indies|\n",
      "| New Zealand|\n",
      "|       India|\n",
      "|    Pakistan|\n",
      "|   Sri Lanka|\n",
      "|    Zimbabwe|\n",
      "+------------+\n",
      "\n"
     ]
    }
   ],
   "source": [
    "spark.sql('select Country from ODI_Team_Match_Statics where Team_Matches_Played>500').show()"
   ]
  },
  {
   "cell_type": "code",
   "execution_count": 107,
   "metadata": {},
   "outputs": [
    {
     "name": "stdout",
     "output_type": "stream",
     "text": [
      "+------------+-----------+------------+\n",
      "|     Country|Matches_Won|Matches_Lost|\n",
      "+------------+-----------+------------+\n",
      "|     England|        375|         334|\n",
      "|   Australia|        575|         331|\n",
      "|South Africa|        385|         216|\n",
      "| West Indies|        401|         381|\n",
      "|       India|        513|         424|\n",
      "|    Pakistan|        486|         413|\n",
      "+------------+-----------+------------+\n",
      "\n"
     ]
    }
   ],
   "source": [
    "ODI_Team_DF.filter(ODI_Team_DF.Matches_Won>ODI_Team_DF.Matches_Lost)['Country','Matches_Won','Matches_Lost'].show()"
   ]
  },
  {
   "cell_type": "code",
   "execution_count": 106,
   "metadata": {},
   "outputs": [
    {
     "name": "stdout",
     "output_type": "stream",
     "text": [
      "+------------+-----------+------------+\n",
      "|     Country|Matches_Won|Matches_Lost|\n",
      "+------------+-----------+------------+\n",
      "|     England|        375|         334|\n",
      "|   Australia|        575|         331|\n",
      "|South Africa|        385|         216|\n",
      "| West Indies|        401|         381|\n",
      "|       India|        513|         424|\n",
      "|    Pakistan|        486|         413|\n",
      "+------------+-----------+------------+\n",
      "\n"
     ]
    }
   ],
   "source": [
    "spark.sql('select Country, Matches_Won,Matches_Lost from ODI_Team_Match_Statics where Matches_Won>Matches_Lost').show()"
   ]
  },
  {
   "cell_type": "code",
   "execution_count": 120,
   "metadata": {},
   "outputs": [
    {
     "name": "stdout",
     "output_type": "stream",
     "text": [
      "+------------+-------------------+\n",
      "|     Country|  Winnig_Percentage|\n",
      "+------------+-------------------+\n",
      "|South Africa|              0.616|\n",
      "|   Australia| 0.6059009483667018|\n",
      "|    Pakistan| 0.5242718446601942|\n",
      "|       India| 0.5197568389057751|\n",
      "|     England| 0.5026809651474531|\n",
      "| West Indies| 0.4878345498783455|\n",
      "| Afghanistan|0.46825396825396826|\n",
      "|   Sri Lanka| 0.4565727699530516|\n",
      "| New Zealand|0.45466321243523317|\n",
      "|     Ireland|0.42948717948717946|\n",
      "| Netherlands|             0.3875|\n",
      "|    Scotland| 0.3652173913043478|\n",
      "|     Namibia|0.35714285714285715|\n",
      "|  Bangladesh| 0.3404255319148936|\n",
      "|       Kenya| 0.2727272727272727|\n",
      "|    Zimbabwe| 0.2608695652173913|\n",
      "|     Bermuda|                0.2|\n",
      "+------------+-------------------+\n",
      "\n"
     ]
    }
   ],
   "source": [
    "\n",
    "ODI_Team_DF.withColumn('Winnig_Percentage',(ODI_Team_DF.Matches_Won/ODI_Team_DF.Team_Matches_Played)).orderBy(['Winnig_Percentage'], ascending=[0])['Country','Winnig_Percentage'].show()"
   ]
  },
  {
   "cell_type": "code",
   "execution_count": 110,
   "metadata": {},
   "outputs": [
    {
     "name": "stdout",
     "output_type": "stream",
     "text": [
      "+------------+-------------------+\n",
      "|     Country|  Winnig_Percentage|\n",
      "+------------+-------------------+\n",
      "|South Africa|              0.616|\n",
      "|   Australia| 0.6059009483667018|\n",
      "|    Pakistan| 0.5242718446601942|\n",
      "|       India| 0.5197568389057751|\n",
      "|     England| 0.5026809651474531|\n",
      "| West Indies| 0.4878345498783455|\n",
      "| Afghanistan|0.46825396825396826|\n",
      "|   Sri Lanka| 0.4565727699530516|\n",
      "| New Zealand|0.45466321243523317|\n",
      "|     Ireland|0.42948717948717946|\n",
      "| Netherlands|             0.3875|\n",
      "|    Scotland| 0.3652173913043478|\n",
      "|     Namibia|0.35714285714285715|\n",
      "|  Bangladesh| 0.3404255319148936|\n",
      "|       Kenya| 0.2727272727272727|\n",
      "|    Zimbabwe| 0.2608695652173913|\n",
      "|     Bermuda|                0.2|\n",
      "+------------+-------------------+\n",
      "\n"
     ]
    }
   ],
   "source": [
    "spark.sql('select Country, (Matches_Won/Team_Matches_Played) as Winnig_Percentage from  ODI_Team_Match_Statics order by Winnig_Percentage desc').show()"
   ]
  },
  {
   "cell_type": "code",
   "execution_count": 123,
   "metadata": {},
   "outputs": [
    {
     "name": "stdout",
     "output_type": "stream",
     "text": [
      "+-------+\n",
      "|No_Team|\n",
      "+-------+\n",
      "|     17|\n",
      "+-------+\n",
      "\n"
     ]
    }
   ],
   "source": [
    "spark.sql('select count(1) as No_Team from ODI_Team_Match_Statics').show()"
   ]
  },
  {
   "cell_type": "code",
   "execution_count": 132,
   "metadata": {},
   "outputs": [
    {
     "name": "stdout",
     "output_type": "stream",
     "text": [
      "+------------+--------+\n",
      "|     Country|count(1)|\n",
      "+------------+--------+\n",
      "|     England|       1|\n",
      "|   Australia|       1|\n",
      "|South Africa|       1|\n",
      "| West Indies|       1|\n",
      "| New Zealand|       1|\n",
      "|       India|       1|\n",
      "|    Pakistan|       1|\n",
      "|   Sri Lanka|       1|\n",
      "|    Zimbabwe|       1|\n",
      "|     Bermuda|       1|\n",
      "| Netherlands|       1|\n",
      "|  Bangladesh|       1|\n",
      "|       Kenya|       1|\n",
      "|     Namibia|       1|\n",
      "|     Ireland|       1|\n",
      "|    Scotland|       1|\n",
      "| Afghanistan|       1|\n",
      "+------------+--------+\n",
      "\n"
     ]
    }
   ],
   "source": [
    "spark.sql('select Country, count(1) from ODI_Team_Match_Statics group by Country').show()"
   ]
  },
  {
   "cell_type": "code",
   "execution_count": 133,
   "metadata": {},
   "outputs": [
    {
     "name": "stdout",
     "output_type": "stream",
     "text": [
      "+------------+--------+\n",
      "|     Country|count(1)|\n",
      "+------------+--------+\n",
      "| Afghanistan|       1|\n",
      "|   Australia|       1|\n",
      "|  Bangladesh|       1|\n",
      "|     Bermuda|       1|\n",
      "|     England|       1|\n",
      "|       India|       1|\n",
      "|     Ireland|       1|\n",
      "|       Kenya|       1|\n",
      "|     Namibia|       1|\n",
      "| Netherlands|       1|\n",
      "| New Zealand|       1|\n",
      "|    Pakistan|       1|\n",
      "|    Scotland|       1|\n",
      "|South Africa|       1|\n",
      "|   Sri Lanka|       1|\n",
      "| West Indies|       1|\n",
      "|    Zimbabwe|       1|\n",
      "+------------+--------+\n",
      "\n"
     ]
    }
   ],
   "source": [
    "spark.sql('select Country, count(1) from ODI_Team_Match_Statics group by Country order by Country').show()"
   ]
  },
  {
   "cell_type": "code",
   "execution_count": 136,
   "metadata": {},
   "outputs": [
    {
     "name": "stdout",
     "output_type": "stream",
     "text": [
      "+------------+----------------+\n",
      "|     Country|sum(Matches_Won)|\n",
      "+------------+----------------+\n",
      "| Afghanistan|              59|\n",
      "|   Australia|             575|\n",
      "|  Bangladesh|             128|\n",
      "|     Bermuda|               7|\n",
      "|     England|             375|\n",
      "|       India|             513|\n",
      "|     Ireland|              67|\n",
      "|       Kenya|              42|\n",
      "|     Namibia|               5|\n",
      "| Netherlands|              31|\n",
      "| New Zealand|             351|\n",
      "|    Pakistan|             486|\n",
      "|    Scotland|              42|\n",
      "|South Africa|             385|\n",
      "|   Sri Lanka|             389|\n",
      "| West Indies|             401|\n",
      "|    Zimbabwe|             138|\n",
      "+------------+----------------+\n",
      "\n"
     ]
    }
   ],
   "source": [
    "spark.sql('select Country, sum(Matches_Won) from ODI_Team_Match_Statics group by Country order by Country').show()"
   ]
  },
  {
   "cell_type": "code",
   "execution_count": 137,
   "metadata": {},
   "outputs": [
    {
     "name": "stdout",
     "output_type": "stream",
     "text": [
      "+------------+----------------+\n",
      "|     Country|avg(Matches_won)|\n",
      "+------------+----------------+\n",
      "| Afghanistan|            59.0|\n",
      "|   Australia|           575.0|\n",
      "|  Bangladesh|           128.0|\n",
      "|     Bermuda|             7.0|\n",
      "|     England|           375.0|\n",
      "|       India|           513.0|\n",
      "|     Ireland|            67.0|\n",
      "|       Kenya|            42.0|\n",
      "|     Namibia|             5.0|\n",
      "| Netherlands|            31.0|\n",
      "| New Zealand|           351.0|\n",
      "|    Pakistan|           486.0|\n",
      "|    Scotland|            42.0|\n",
      "|South Africa|           385.0|\n",
      "|   Sri Lanka|           389.0|\n",
      "| West Indies|           401.0|\n",
      "|    Zimbabwe|           138.0|\n",
      "+------------+----------------+\n",
      "\n"
     ]
    }
   ],
   "source": [
    "spark.sql('select Country, avg(Matches_won) from ODI_Team_Match_Statics group by Country order by Country').show()"
   ]
  },
  {
   "cell_type": "code",
   "execution_count": 141,
   "metadata": {},
   "outputs": [],
   "source": [
    "# Register Dataframe as a SQL temporary view\n",
    "ipl_df.createOrReplaceTempView(\"ipl\")"
   ]
  },
  {
   "cell_type": "markdown",
   "metadata": {},
   "source": [
    "## Important"
   ]
  },
  {
   "cell_type": "code",
   "execution_count": 154,
   "metadata": {},
   "outputs": [
    {
     "name": "stdout",
     "output_type": "stream",
     "text": [
      "+-------------------+--------+------------+-------------+\n",
      "|               Team|  Player|Runds Scored|Highest Score|\n",
      "+-------------------+--------+------------+-------------+\n",
      "|Chennai Super Kings|MS Dhoni|         416|          84*|\n",
      "|Chennai Super Kings|MS Dhoni|         455|          79*|\n",
      "+-------------------+--------+------------+-------------+\n",
      "\n"
     ]
    }
   ],
   "source": [
    "ipl_df.filter(ipl_df.Player=='MS Dhoni').filter(ipl_df.Team=='Chennai Super Kings').orderBy(ipl_df['Highest Score'].desc()).select('Team','Player','Runds Scored','Highest Score').show()"
   ]
  },
  {
   "cell_type": "code",
   "execution_count": 160,
   "metadata": {},
   "outputs": [
    {
     "name": "stdout",
     "output_type": "stream",
     "text": [
      "+-------------------+--------+----------+-------+\n",
      "|               Team|  Player|Tournament|Matches|\n",
      "+-------------------+--------+----------+-------+\n",
      "|Chennai Super Kings|MS Dhoni|  IPL 2018|     16|\n",
      "|Chennai Super Kings|MS Dhoni|  IPL 2019|     15|\n",
      "+-------------------+--------+----------+-------+\n",
      "\n"
     ]
    }
   ],
   "source": [
    "spark.sql(\"select Team,  Player, Tournament, Matches from ipl where Player='MS Dhoni' and Team='Chennai Super Kings'\").show()"
   ]
  },
  {
   "cell_type": "code",
   "execution_count": 168,
   "metadata": {},
   "outputs": [],
   "source": [
    "from pyspark.sql.functions import udf"
   ]
  },
  {
   "cell_type": "code",
   "execution_count": 169,
   "metadata": {},
   "outputs": [],
   "source": [
    "upper = udf(lambda s: s.upper())"
   ]
  },
  {
   "cell_type": "code",
   "execution_count": 177,
   "metadata": {},
   "outputs": [
    {
     "name": "stdout",
     "output_type": "stream",
     "text": [
      "+----------------+\n",
      "|  <lambda>(Team)|\n",
      "+----------------+\n",
      "|DELHI DAREDEVILS|\n",
      "|DELHI DAREDEVILS|\n",
      "+----------------+\n",
      "\n"
     ]
    }
   ],
   "source": [
    "ipl_df.select(upper(ipl_df['Team'])).limit(2).show()"
   ]
  },
  {
   "cell_type": "code",
   "execution_count": 179,
   "metadata": {},
   "outputs": [
    {
     "name": "stdout",
     "output_type": "stream",
     "text": [
      "+----------------+\n",
      "|  <lambda>(Team)|\n",
      "+----------------+\n",
      "|DELHI DAREDEVILS|\n",
      "|DELHI DAREDEVILS|\n",
      "+----------------+\n",
      "\n"
     ]
    }
   ],
   "source": [
    "ipl_df.select(upper('Team')).limit(2).show()"
   ]
  },
  {
   "cell_type": "code",
   "execution_count": 185,
   "metadata": {},
   "outputs": [
    {
     "name": "stdout",
     "output_type": "stream",
     "text": [
      "+--------------------+----------+--------------------------------+\n",
      "|            TeamName|RunsScored|<lambda>(Player AS `PlayerName`)|\n",
      "+--------------------+----------+--------------------------------+\n",
      "| Chennai Super Kings|       455|                        MS DHONI|\n",
      "| Chennai Super Kings|       416|                        MS DHONI|\n",
      "|Rising Pune Super...|       290|                        MS DHONI|\n",
      "|Rising Pune Super...|       284|                        MS DHONI|\n",
      "+--------------------+----------+--------------------------------+\n",
      "\n"
     ]
    }
   ],
   "source": [
    "ipl_df.filter(ipl_df['Player']=='MS Dhoni').orderBy(ipl_df['Runds Scored'].desc()).select(ipl_df['Team'].alias('TeamName'), ipl_df['Runds Scored'].alias('RunsScored'), upper(ipl_df['Player'].alias('PlayerName'))).show()"
   ]
  },
  {
   "cell_type": "code",
   "execution_count": 194,
   "metadata": {},
   "outputs": [
    {
     "name": "stdout",
     "output_type": "stream",
     "text": [
      "+-------------------+------------+\n",
      "|               Team|sum(Matches)|\n",
      "+-------------------+------------+\n",
      "|    Kings XI Punjab|           8|\n",
      "|     Mumbai Indians|           4|\n",
      "|Sunrisers Hyderabad|          22|\n",
      "+-------------------+------------+\n",
      "\n"
     ]
    }
   ],
   "source": [
    "ipl_df.filter(ipl_df['Player']=='Yuvraj Singh').groupBy('Team').sum('Matches').alias('TotMaches').show()"
   ]
  },
  {
   "cell_type": "code",
   "execution_count": null,
   "metadata": {},
   "outputs": [],
   "source": []
  }
 ],
 "metadata": {
  "kernelspec": {
   "display_name": "Python 3",
   "language": "python",
   "name": "python3"
  },
  "language_info": {
   "codemirror_mode": {
    "name": "ipython",
    "version": 3
   },
   "file_extension": ".py",
   "mimetype": "text/x-python",
   "name": "python",
   "nbconvert_exporter": "python",
   "pygments_lexer": "ipython3",
   "version": "3.7.4"
  }
 },
 "nbformat": 4,
 "nbformat_minor": 2
}
